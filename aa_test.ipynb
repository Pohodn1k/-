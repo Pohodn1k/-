{
 "cells": [
  {
   "cell_type": "code",
   "execution_count": 38,
   "id": "71a1c1a1",
   "metadata": {},
   "outputs": [],
   "source": [
    "import pandas as pd\n",
    "import numpy as np\n",
    "from scipy import stats\n",
    "from statsmodels.stats.proportion import proportions_ztest\n",
    "from tqdm.auto import tqdm\n",
    "import matplotlib.pyplot as plt\n",
    "import itertools"
   ]
  },
  {
   "cell_type": "code",
   "execution_count": null,
   "id": "82286404",
   "metadata": {},
   "outputs": [
    {
     "data": {
      "text/html": [
       "<div>\n",
       "<style scoped>\n",
       "    .dataframe tbody tr th:only-of-type {\n",
       "        vertical-align: middle;\n",
       "    }\n",
       "\n",
       "    .dataframe tbody tr th {\n",
       "        vertical-align: top;\n",
       "    }\n",
       "\n",
       "    .dataframe thead th {\n",
       "        text-align: right;\n",
       "    }\n",
       "</style>\n",
       "<table border=\"1\" class=\"dataframe\">\n",
       "  <thead>\n",
       "    <tr style=\"text-align: right;\">\n",
       "      <th></th>\n",
       "      <th>Unnamed: 0</th>\n",
       "      <th>uid</th>\n",
       "      <th>experimentVariant</th>\n",
       "      <th>version</th>\n",
       "      <th>purchase</th>\n",
       "    </tr>\n",
       "  </thead>\n",
       "  <tbody>\n",
       "    <tr>\n",
       "      <th>0</th>\n",
       "      <td>1</td>\n",
       "      <td>c4ca4238a0b923820dcc509a6f75849b</td>\n",
       "      <td>1</td>\n",
       "      <td>v2.8.0</td>\n",
       "      <td>0</td>\n",
       "    </tr>\n",
       "    <tr>\n",
       "      <th>1</th>\n",
       "      <td>2</td>\n",
       "      <td>c81e728d9d4c2f636f067f89cc14862c</td>\n",
       "      <td>0</td>\n",
       "      <td>v2.9.0</td>\n",
       "      <td>0</td>\n",
       "    </tr>\n",
       "    <tr>\n",
       "      <th>2</th>\n",
       "      <td>3</td>\n",
       "      <td>eccbc87e4b5ce2fe28308fd9f2a7baf3</td>\n",
       "      <td>1</td>\n",
       "      <td>v2.9.0</td>\n",
       "      <td>0</td>\n",
       "    </tr>\n",
       "    <tr>\n",
       "      <th>3</th>\n",
       "      <td>4</td>\n",
       "      <td>a87ff679a2f3e71d9181a67b7542122c</td>\n",
       "      <td>1</td>\n",
       "      <td>v2.8.0</td>\n",
       "      <td>0</td>\n",
       "    </tr>\n",
       "    <tr>\n",
       "      <th>4</th>\n",
       "      <td>5</td>\n",
       "      <td>e4da3b7fbbce2345d7772b0674a318d5</td>\n",
       "      <td>1</td>\n",
       "      <td>v2.8.0</td>\n",
       "      <td>0</td>\n",
       "    </tr>\n",
       "  </tbody>\n",
       "</table>\n",
       "</div>"
      ],
      "text/plain": [
       "   Unnamed: 0                               uid  experimentVariant version  \\\n",
       "0           1  c4ca4238a0b923820dcc509a6f75849b                  1  v2.8.0   \n",
       "1           2  c81e728d9d4c2f636f067f89cc14862c                  0  v2.9.0   \n",
       "2           3  eccbc87e4b5ce2fe28308fd9f2a7baf3                  1  v2.9.0   \n",
       "3           4  a87ff679a2f3e71d9181a67b7542122c                  1  v2.8.0   \n",
       "4           5  e4da3b7fbbce2345d7772b0674a318d5                  1  v2.8.0   \n",
       "\n",
       "   purchase  \n",
       "0         0  \n",
       "1         0  \n",
       "2         0  \n",
       "3         0  \n",
       "4         0  "
      ]
     },
     "execution_count": 39,
     "metadata": {},
     "output_type": "execute_result"
    }
   ],
   "source": [
    "df = pd.read_csv(r\"C:\\Users\\user\\Desktop\\hw_aa.csv\", sep = ';') #Читаем датафрэйм \n",
    "df.head()"
   ]
  },
  {
   "cell_type": "code",
   "execution_count": null,
   "id": "a5b7d54b",
   "metadata": {},
   "outputs": [],
   "source": [
    "def metric_fpr(df_x, df_y, metric_col, n_sim, n_s_perc, n_s_min, estimator, *args, **kwargs): #Пишем фкнкцию которая будет считать показатель ложноположительных прогнозов\n",
    "    stat_res = {\n",
    "        'aa': {\n",
    "            'pvalue': [],\n",
    "            'mu_x':[],\n",
    "            'mu_y':[]},\n",
    "        'fpr':{\n",
    "            'fpr_95': 0\n",
    "        } \n",
    "    }#Создаём словарь, в котором будем хранить рассчитанные показатели\n",
    "    for sin in range(n_sim): #Запускаем цикл симуляций А/А теста\n",
    "        x = df_x[metric_col].sample(int(min(n_s_min, len(df_x) * n_s_perc)), replace = False).values\n",
    "        y = df_y[metric_col].sample(int(min(n_s_min, len(df_y) * n_s_perc)), replace = False).values #Записываем в отдельные переменные результаты симуляций\n",
    "        if estimator == 'prop': \n",
    "            counts = np.array([sum(x), sum(y)])\n",
    "            nobs = np.array([len(x), len(y)])\n",
    "            stat, pvalue = proportions_ztest(counts, nobs, *args, **kwargs) #Для оценщика proreties записываем расчёт pvalue при помощи proportions_ztest\n",
    "        if estimator == 'ttest':\n",
    "            stat, pvalue = stats.ttest_ind(x, y, *args, **kwargs) #Для оценщика ttest записываем расчёт pvalue при помощи ttest_ind\n",
    "        stat_res['aa']['pvalue'].append(pvalue)\n",
    "        stat_res['aa']['mu_x'].append(np.mean(x))\n",
    "        stat_res['aa']['mu_y'].append(np.mean(y)) #Добавляем в словарь рассчитанные pvalue и средние\n",
    "    stat_res['fpr']['fpr_95'] = float(sum(np.array(stat_res['aa']['pvalue']) <= 0.05) / n_sim) #Рассчитываем fpr\n",
    "    return stat_res\n",
    "\n"
   ]
  },
  {
   "cell_type": "code",
   "execution_count": null,
   "id": "ed1f060f",
   "metadata": {},
   "outputs": [],
   "source": [
    "def fpr_report (df, metric_col, variation_col, group_col, n_sim, n_s_perc, n_s_min, estimator, *args, **kwargs): #Создаём функцию, которая рассчитает fpr для каждой версии продукта\n",
    "    list_fpr = [] #Создаём список для записи расчётных значений \n",
    "    list_group = list(pd.unique(df[group_col])) #Создаём список уникальных версий продукта\n",
    "    for v in range(len(list_group)): #Создаём цикл, рассчитывающий необходимые метрики для каждой версии продукта\n",
    "        df_x = df[(df[variation_col] == 0) & (df[group_col] == list_group[v])] \n",
    "        df_y = df[(df[variation_col] == 1) & (df[group_col] == list_group[v])] #Создаём выборки, интересующей нас метрики и необходимой версией\n",
    "        cr_x = sum(df_x[metric]) / len(df_x)\n",
    "        cr_y = sum(df_y[metric]) / len(df_y) #Рассчитываем конверсию\n",
    "        fpr = {}\n",
    "        fpr = metric_fpr(\n",
    "            df_x = df_x,\n",
    "            df_y = df_y,\n",
    "            metric_col = metric_col,\n",
    "            n_sim = n_sim,\n",
    "            n_s_perc = n_s_perc,\n",
    "            n_s_min = n_s_min,\n",
    "            estimator = estimator, *args, **kwargs\n",
    "        ) #Запускаем ранее написанную функцию\n",
    "        is_fpr = (fpr['fpr']['fpr_95']<= 0.05) #Проверяем результаты на статистическую значимость\n",
    "        list_fpr.append([list_group[v], cr_x, cr_y, fpr['fpr']['fpr_95'], is_fpr]) #Добавляем полученные метрики в список\n",
    "    report = pd.DataFrame.from_records(list_fpr, columns = ['group', 'cr_x', 'cr_y', 'fpr_95', 'is_fpr']) #Преобразуем список в датафрэйм\n",
    "    return print(report)\n"
   ]
  },
  {
   "cell_type": "code",
   "execution_count": null,
   "id": "42ab35e5",
   "metadata": {},
   "outputs": [
    {
     "name": "stdout",
     "output_type": "stream",
     "text": [
      "      group      cr_x      cr_y  fpr_95  is_fpr\n",
      "0    v2.8.0  0.000993  0.045606   1.000   False\n",
      "1    v2.9.0  0.074658  0.071304   0.041    True\n",
      "2  v3.7.4.0  0.059943  0.063018   0.033    True\n",
      "3  v3.8.0.0  0.057604  0.062848   0.058   False\n"
     ]
    }
   ],
   "source": [
    "n_sim = 1000\n",
    "n_s_perc = 0.9\n",
    "n_s_min = 1000\n",
    "metric = 'purchase'\n",
    "vaiant = 'experimentVariant'\n",
    "group = 'version'\n",
    "res = fpr_report(\n",
    "    df = df, \n",
    "    metric_col = metric,\n",
    "    variation_col = vaiant,\n",
    "    group_col = group, \n",
    "    n_sim = n_sim, \n",
    "    n_s_perc = n_s_perc, \n",
    "    n_s_min = n_s_min, \n",
    "    estimator = 'ttest'\n",
    ") #Запускаем написанную функцию\n",
    "#Результат: статистически значимо отклоняется версия приложения 2.8.0 и 3.8.0.0, но последняя отклоняется незначительно"
   ]
  }
 ],
 "metadata": {
  "kernelspec": {
   "display_name": "Python 3",
   "language": "python",
   "name": "python3"
  },
  "language_info": {
   "codemirror_mode": {
    "name": "ipython",
    "version": 3
   },
   "file_extension": ".py",
   "mimetype": "text/x-python",
   "name": "python",
   "nbconvert_exporter": "python",
   "pygments_lexer": "ipython3",
   "version": "3.13.5"
  }
 },
 "nbformat": 4,
 "nbformat_minor": 5
}
