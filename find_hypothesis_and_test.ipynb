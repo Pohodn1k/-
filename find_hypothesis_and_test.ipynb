{
 "cells": [
  {
   "cell_type": "code",
   "execution_count": 4,
   "id": "577680bc",
   "metadata": {},
   "outputs": [],
   "source": [
    "from scipy.stats import chi2_contingency, mannwhitneyu, shapiro, kruskal\n",
    "import scikit_posthocs as sp\n",
    "import pandas as pd"
   ]
  },
  {
   "cell_type": "code",
   "execution_count": null,
   "id": "e2e55a6c",
   "metadata": {},
   "outputs": [
    {
     "data": {
      "text/html": [
       "<div>\n",
       "<style scoped>\n",
       "    .dataframe tbody tr th:only-of-type {\n",
       "        vertical-align: middle;\n",
       "    }\n",
       "\n",
       "    .dataframe tbody tr th {\n",
       "        vertical-align: top;\n",
       "    }\n",
       "\n",
       "    .dataframe thead th {\n",
       "        text-align: right;\n",
       "    }\n",
       "</style>\n",
       "<table border=\"1\" class=\"dataframe\">\n",
       "  <thead>\n",
       "    <tr style=\"text-align: right;\">\n",
       "      <th></th>\n",
       "      <th>avg_dist</th>\n",
       "      <th>avg_rating_by_driver</th>\n",
       "      <th>avg_rating_of_driver</th>\n",
       "      <th>avg_surge</th>\n",
       "      <th>city</th>\n",
       "      <th>last_trip_date</th>\n",
       "      <th>phone</th>\n",
       "      <th>signup_date</th>\n",
       "      <th>surge_pct</th>\n",
       "      <th>trips_in_first_30_days</th>\n",
       "      <th>luxury_car_user</th>\n",
       "      <th>weekday_pct</th>\n",
       "    </tr>\n",
       "  </thead>\n",
       "  <tbody>\n",
       "    <tr>\n",
       "      <th>0</th>\n",
       "      <td>3.67</td>\n",
       "      <td>5.0</td>\n",
       "      <td>4.7</td>\n",
       "      <td>1.10</td>\n",
       "      <td>King's Landing</td>\n",
       "      <td>2014-06-17</td>\n",
       "      <td>iPhone</td>\n",
       "      <td>2014-01-25</td>\n",
       "      <td>15.4</td>\n",
       "      <td>4</td>\n",
       "      <td>True</td>\n",
       "      <td>46.2</td>\n",
       "    </tr>\n",
       "    <tr>\n",
       "      <th>1</th>\n",
       "      <td>8.26</td>\n",
       "      <td>5.0</td>\n",
       "      <td>5.0</td>\n",
       "      <td>1.00</td>\n",
       "      <td>Astapor</td>\n",
       "      <td>2014-05-05</td>\n",
       "      <td>Android</td>\n",
       "      <td>2014-01-29</td>\n",
       "      <td>0.0</td>\n",
       "      <td>0</td>\n",
       "      <td>False</td>\n",
       "      <td>50.0</td>\n",
       "    </tr>\n",
       "    <tr>\n",
       "      <th>2</th>\n",
       "      <td>0.77</td>\n",
       "      <td>5.0</td>\n",
       "      <td>4.3</td>\n",
       "      <td>1.00</td>\n",
       "      <td>Astapor</td>\n",
       "      <td>2014-01-07</td>\n",
       "      <td>iPhone</td>\n",
       "      <td>2014-01-06</td>\n",
       "      <td>0.0</td>\n",
       "      <td>3</td>\n",
       "      <td>False</td>\n",
       "      <td>100.0</td>\n",
       "    </tr>\n",
       "    <tr>\n",
       "      <th>3</th>\n",
       "      <td>2.36</td>\n",
       "      <td>4.9</td>\n",
       "      <td>4.6</td>\n",
       "      <td>1.14</td>\n",
       "      <td>King's Landing</td>\n",
       "      <td>2014-06-29</td>\n",
       "      <td>iPhone</td>\n",
       "      <td>2014-01-10</td>\n",
       "      <td>20.0</td>\n",
       "      <td>9</td>\n",
       "      <td>True</td>\n",
       "      <td>80.0</td>\n",
       "    </tr>\n",
       "    <tr>\n",
       "      <th>4</th>\n",
       "      <td>3.13</td>\n",
       "      <td>4.9</td>\n",
       "      <td>4.4</td>\n",
       "      <td>1.19</td>\n",
       "      <td>Winterfell</td>\n",
       "      <td>2014-03-15</td>\n",
       "      <td>Android</td>\n",
       "      <td>2014-01-27</td>\n",
       "      <td>11.8</td>\n",
       "      <td>14</td>\n",
       "      <td>False</td>\n",
       "      <td>82.4</td>\n",
       "    </tr>\n",
       "  </tbody>\n",
       "</table>\n",
       "</div>"
      ],
      "text/plain": [
       "   avg_dist  avg_rating_by_driver  avg_rating_of_driver  avg_surge  \\\n",
       "0      3.67                   5.0                   4.7       1.10   \n",
       "1      8.26                   5.0                   5.0       1.00   \n",
       "2      0.77                   5.0                   4.3       1.00   \n",
       "3      2.36                   4.9                   4.6       1.14   \n",
       "4      3.13                   4.9                   4.4       1.19   \n",
       "\n",
       "             city last_trip_date    phone signup_date  surge_pct  \\\n",
       "0  King's Landing     2014-06-17   iPhone  2014-01-25       15.4   \n",
       "1         Astapor     2014-05-05  Android  2014-01-29        0.0   \n",
       "2         Astapor     2014-01-07   iPhone  2014-01-06        0.0   \n",
       "3  King's Landing     2014-06-29   iPhone  2014-01-10       20.0   \n",
       "4      Winterfell     2014-03-15  Android  2014-01-27       11.8   \n",
       "\n",
       "   trips_in_first_30_days  luxury_car_user  weekday_pct  \n",
       "0                       4             True         46.2  \n",
       "1                       0            False         50.0  \n",
       "2                       3            False        100.0  \n",
       "3                       9             True         80.0  \n",
       "4                      14            False         82.4  "
      ]
     },
     "execution_count": 5,
     "metadata": {},
     "output_type": "execute_result"
    }
   ],
   "source": [
    "df = pd.read_csv(r\"C:\\Users\\user\\Desktop\\churn.csv\") #Читаем датафрэйм\n",
    "df.head() "
   ]
  },
  {
   "cell_type": "code",
   "execution_count": null,
   "id": "616bcd94",
   "metadata": {},
   "outputs": [
    {
     "data": {
      "text/html": [
       "<div>\n",
       "<style scoped>\n",
       "    .dataframe tbody tr th:only-of-type {\n",
       "        vertical-align: middle;\n",
       "    }\n",
       "\n",
       "    .dataframe tbody tr th {\n",
       "        vertical-align: top;\n",
       "    }\n",
       "\n",
       "    .dataframe thead th {\n",
       "        text-align: right;\n",
       "    }\n",
       "</style>\n",
       "<table border=\"1\" class=\"dataframe\">\n",
       "  <thead>\n",
       "    <tr style=\"text-align: right;\">\n",
       "      <th></th>\n",
       "      <th>days_since_last_trip</th>\n",
       "      <th>churn</th>\n",
       "    </tr>\n",
       "  </thead>\n",
       "  <tbody>\n",
       "    <tr>\n",
       "      <th>0</th>\n",
       "      <td>14</td>\n",
       "      <td>not_churn</td>\n",
       "    </tr>\n",
       "    <tr>\n",
       "      <th>1</th>\n",
       "      <td>57</td>\n",
       "      <td>churn</td>\n",
       "    </tr>\n",
       "    <tr>\n",
       "      <th>2</th>\n",
       "      <td>175</td>\n",
       "      <td>churn</td>\n",
       "    </tr>\n",
       "    <tr>\n",
       "      <th>3</th>\n",
       "      <td>2</td>\n",
       "      <td>not_churn</td>\n",
       "    </tr>\n",
       "    <tr>\n",
       "      <th>4</th>\n",
       "      <td>108</td>\n",
       "      <td>churn</td>\n",
       "    </tr>\n",
       "    <tr>\n",
       "      <th>...</th>\n",
       "      <td>...</td>\n",
       "      <td>...</td>\n",
       "    </tr>\n",
       "    <tr>\n",
       "      <th>49995</th>\n",
       "      <td>26</td>\n",
       "      <td>not_churn</td>\n",
       "    </tr>\n",
       "    <tr>\n",
       "      <th>49996</th>\n",
       "      <td>157</td>\n",
       "      <td>churn</td>\n",
       "    </tr>\n",
       "    <tr>\n",
       "      <th>49997</th>\n",
       "      <td>40</td>\n",
       "      <td>churn</td>\n",
       "    </tr>\n",
       "    <tr>\n",
       "      <th>49998</th>\n",
       "      <td>167</td>\n",
       "      <td>churn</td>\n",
       "    </tr>\n",
       "    <tr>\n",
       "      <th>49999</th>\n",
       "      <td>72</td>\n",
       "      <td>churn</td>\n",
       "    </tr>\n",
       "  </tbody>\n",
       "</table>\n",
       "<p>50000 rows × 2 columns</p>\n",
       "</div>"
      ],
      "text/plain": [
       "       days_since_last_trip      churn\n",
       "0                        14  not_churn\n",
       "1                        57      churn\n",
       "2                       175      churn\n",
       "3                         2  not_churn\n",
       "4                       108      churn\n",
       "...                     ...        ...\n",
       "49995                    26  not_churn\n",
       "49996                   157      churn\n",
       "49997                    40      churn\n",
       "49998                   167      churn\n",
       "49999                    72      churn\n",
       "\n",
       "[50000 rows x 2 columns]"
      ]
     },
     "execution_count": 7,
     "metadata": {},
     "output_type": "execute_result"
    }
   ],
   "source": [
    "df.last_trip_date = pd.to_datetime(df.last_trip_date)\n",
    "df.signup_date = pd.to_datetime(df.signup_date) #Приводим даты к нужному формату\n",
    "df['days_since_last_trip'] = df.last_trip_date.max() - df.last_trip_date #Считаем сколько времени прошло с последней активности клиента\n",
    "df['days_since_last_trip'] = df['days_since_last_trip'].dt.days #Записываем полученные данные в отдельную колонку\n",
    "df['churn'] = df.days_since_last_trip.apply(lambda x: 'churn' if x > 30 else 'not_churn') #Создаём в датафрэйме отметку покинул ли нас клиент(если он отсутствовал больше 30 дней)\n",
    "df[['days_since_last_trip', 'churn']]"
   ]
  },
  {
   "cell_type": "code",
   "execution_count": null,
   "id": "d9ad8307",
   "metadata": {},
   "outputs": [
    {
     "data": {
      "text/html": [
       "<div>\n",
       "<style scoped>\n",
       "    .dataframe tbody tr th:only-of-type {\n",
       "        vertical-align: middle;\n",
       "    }\n",
       "\n",
       "    .dataframe tbody tr th {\n",
       "        vertical-align: top;\n",
       "    }\n",
       "\n",
       "    .dataframe thead th {\n",
       "        text-align: right;\n",
       "    }\n",
       "</style>\n",
       "<table border=\"1\" class=\"dataframe\">\n",
       "  <thead>\n",
       "    <tr style=\"text-align: right;\">\n",
       "      <th>churn</th>\n",
       "      <th>churn</th>\n",
       "      <th>not_churn</th>\n",
       "    </tr>\n",
       "    <tr>\n",
       "      <th>city</th>\n",
       "      <th></th>\n",
       "      <th></th>\n",
       "    </tr>\n",
       "  </thead>\n",
       "  <tbody>\n",
       "    <tr>\n",
       "      <th>Astapor</th>\n",
       "      <td>12306</td>\n",
       "      <td>4228</td>\n",
       "    </tr>\n",
       "    <tr>\n",
       "      <th>King's Landing</th>\n",
       "      <td>3767</td>\n",
       "      <td>6363</td>\n",
       "    </tr>\n",
       "    <tr>\n",
       "      <th>Winterfell</th>\n",
       "      <td>15123</td>\n",
       "      <td>8213</td>\n",
       "    </tr>\n",
       "  </tbody>\n",
       "</table>\n",
       "</div>"
      ],
      "text/plain": [
       "churn           churn  not_churn\n",
       "city                            \n",
       "Astapor         12306       4228\n",
       "King's Landing   3767       6363\n",
       "Winterfell      15123       8213"
      ]
     },
     "execution_count": 9,
     "metadata": {},
     "output_type": "execute_result"
    }
   ],
   "source": [
    "churn_city = pd.crosstab(df.city, df.churn) #Создаём датафрэйм с количеством ушедших и оставшихся клиентов с разбивкой по городам\n",
    "churn_city"
   ]
  },
  {
   "cell_type": "code",
   "execution_count": null,
   "id": "a8b841da",
   "metadata": {},
   "outputs": [
    {
     "data": {
      "text/plain": [
       "np.float64(0.0)"
      ]
     },
     "execution_count": 14,
     "metadata": {},
     "output_type": "execute_result"
    }
   ],
   "source": [
    "stat, p,dof , expected = chi2_contingency(churn_city) #Рассчитываем pvalue при помощи критерия Пирсона\n",
    "p#Он близок к нулю"
   ]
  },
  {
   "cell_type": "code",
   "execution_count": null,
   "id": "1919c889",
   "metadata": {},
   "outputs": [],
   "source": [
    "ast = df.query('city == \"Astapor\"').trips_in_first_30_days\n",
    "king = df[df.city == \"King's Landing\"].trips_in_first_30_days\n",
    "wint = df.query('city == \"Winterfell\"').trips_in_first_30_days #Создаём отдельные датафрэймы с количеством поездок в первые 30 дней для каждого города"
   ]
  },
  {
   "cell_type": "code",
   "execution_count": null,
   "id": "27fbb66a",
   "metadata": {},
   "outputs": [
    {
     "name": "stdout",
     "output_type": "stream",
     "text": [
      "ShapiroResult(statistic=np.float64(0.5414699844895436), pvalue=np.float64(4.822611722650788e-45))\n",
      "ShapiroResult(statistic=np.float64(0.6132173383426862), pvalue=np.float64(1.6834188295275776e-42))\n",
      "ShapiroResult(statistic=np.float64(0.5455789939910616), pvalue=np.float64(6.602753909260042e-45))\n"
     ]
    }
   ],
   "source": [
    "print(shapiro(ast.sample(1000, random_state=17)))\n",
    "print(shapiro(king.sample(1000, random_state=17)))\n",
    "print(shapiro(wint.sample(1000, random_state=17))) #При помощи теста Шапиро-Уилка проверяем данные на нормальность распределения"
   ]
  },
  {
   "cell_type": "code",
   "execution_count": null,
   "id": "e2877967",
   "metadata": {},
   "outputs": [
    {
     "data": {
      "text/plain": [
       "KruskalResult(statistic=np.float64(221.32105325317454), pvalue=np.float64(8.724567791938856e-49))"
      ]
     },
     "execution_count": 32,
     "metadata": {},
     "output_type": "execute_result"
    }
   ],
   "source": [
    "kruskal(ast, king,wint) #Для определения сущесвуют ли статистически значимые различия используем метод Краскела-Уоллиса"
   ]
  },
  {
   "cell_type": "code",
   "execution_count": null,
   "id": "fa082ee4",
   "metadata": {},
   "outputs": [
    {
     "data": {
      "text/html": [
       "<div>\n",
       "<style scoped>\n",
       "    .dataframe tbody tr th:only-of-type {\n",
       "        vertical-align: middle;\n",
       "    }\n",
       "\n",
       "    .dataframe tbody tr th {\n",
       "        vertical-align: top;\n",
       "    }\n",
       "\n",
       "    .dataframe thead th {\n",
       "        text-align: right;\n",
       "    }\n",
       "</style>\n",
       "<table border=\"1\" class=\"dataframe\">\n",
       "  <thead>\n",
       "    <tr style=\"text-align: right;\">\n",
       "      <th></th>\n",
       "      <th>1</th>\n",
       "      <th>2</th>\n",
       "      <th>3</th>\n",
       "    </tr>\n",
       "  </thead>\n",
       "  <tbody>\n",
       "    <tr>\n",
       "      <th>1</th>\n",
       "      <td>1.000000e+00</td>\n",
       "      <td>1.313616e-09</td>\n",
       "      <td>2.448501e-49</td>\n",
       "    </tr>\n",
       "    <tr>\n",
       "      <th>2</th>\n",
       "      <td>1.313616e-09</td>\n",
       "      <td>1.000000e+00</td>\n",
       "      <td>8.440212e-10</td>\n",
       "    </tr>\n",
       "    <tr>\n",
       "      <th>3</th>\n",
       "      <td>2.448501e-49</td>\n",
       "      <td>8.440212e-10</td>\n",
       "      <td>1.000000e+00</td>\n",
       "    </tr>\n",
       "  </tbody>\n",
       "</table>\n",
       "</div>"
      ],
      "text/plain": [
       "              1             2             3\n",
       "1  1.000000e+00  1.313616e-09  2.448501e-49\n",
       "2  1.313616e-09  1.000000e+00  8.440212e-10\n",
       "3  2.448501e-49  8.440212e-10  1.000000e+00"
      ]
     },
     "execution_count": 33,
     "metadata": {},
     "output_type": "execute_result"
    }
   ],
   "source": [
    "dat = [ast, king,wint]\n",
    "sp.posthoc_dunn(dat, p_adjust='holm') #С помощью метода Данна определяем между какими группами различия"
   ]
  },
  {
   "cell_type": "code",
   "execution_count": 34,
   "id": "0f469c1f",
   "metadata": {},
   "outputs": [],
   "source": [
    "needed_df = df[['city', 'trips_in_first_30_days']]"
   ]
  },
  {
   "cell_type": "code",
   "execution_count": null,
   "id": "cfbb5919",
   "metadata": {},
   "outputs": [
    {
     "data": {
      "text/html": [
       "<div>\n",
       "<style scoped>\n",
       "    .dataframe tbody tr th:only-of-type {\n",
       "        vertical-align: middle;\n",
       "    }\n",
       "\n",
       "    .dataframe tbody tr th {\n",
       "        vertical-align: top;\n",
       "    }\n",
       "\n",
       "    .dataframe thead th {\n",
       "        text-align: right;\n",
       "    }\n",
       "</style>\n",
       "<table border=\"1\" class=\"dataframe\">\n",
       "  <thead>\n",
       "    <tr style=\"text-align: right;\">\n",
       "      <th></th>\n",
       "      <th>Astapor</th>\n",
       "      <th>King's Landing</th>\n",
       "      <th>Winterfell</th>\n",
       "    </tr>\n",
       "  </thead>\n",
       "  <tbody>\n",
       "    <tr>\n",
       "      <th>Astapor</th>\n",
       "      <td>1.000000e+00</td>\n",
       "      <td>1.313616e-09</td>\n",
       "      <td>2.448501e-49</td>\n",
       "    </tr>\n",
       "    <tr>\n",
       "      <th>King's Landing</th>\n",
       "      <td>1.313616e-09</td>\n",
       "      <td>1.000000e+00</td>\n",
       "      <td>8.440212e-10</td>\n",
       "    </tr>\n",
       "    <tr>\n",
       "      <th>Winterfell</th>\n",
       "      <td>2.448501e-49</td>\n",
       "      <td>8.440212e-10</td>\n",
       "      <td>1.000000e+00</td>\n",
       "    </tr>\n",
       "  </tbody>\n",
       "</table>\n",
       "</div>"
      ],
      "text/plain": [
       "                     Astapor  King's Landing    Winterfell\n",
       "Astapor         1.000000e+00    1.313616e-09  2.448501e-49\n",
       "King's Landing  1.313616e-09    1.000000e+00  8.440212e-10\n",
       "Winterfell      2.448501e-49    8.440212e-10  1.000000e+00"
      ]
     },
     "execution_count": 36,
     "metadata": {},
     "output_type": "execute_result"
    }
   ],
   "source": [
    "sp.posthoc_dunn(needed_df,val_col= 'trips_in_first_30_days', group_col= 'city', p_adjust='holm') #Второй способ"
   ]
  },
  {
   "cell_type": "code",
   "execution_count": null,
   "id": "aad9f4d8",
   "metadata": {},
   "outputs": [],
   "source": [
    "churn = df.query('churn == \"churn\"').trips_in_first_30_days\n",
    "not_churn = df.query('churn == \"not_churn\"').trips_in_first_30_days #создаём подвыборки с количеством поездок в первые 30 дней для ушедших и оставшихся клиентов"
   ]
  },
  {
   "cell_type": "code",
   "execution_count": null,
   "id": "d68aa103",
   "metadata": {},
   "outputs": [
    {
     "data": {
      "text/plain": [
       "MannwhitneyuResult(statistic=np.float64(234767452.0), pvalue=np.float64(0.0))"
      ]
     },
     "execution_count": 38,
     "metadata": {},
     "output_type": "execute_result"
    }
   ],
   "source": [
    "mannwhitneyu(churn, not_churn) #Сравниваем распределения данных для этих подвыборок с помощью критерия Манна-Уитни"
   ]
  },
  {
   "cell_type": "code",
   "execution_count": 39,
   "id": "fccd3439",
   "metadata": {},
   "outputs": [],
   "source": [
    "import seaborn as sns"
   ]
  },
  {
   "cell_type": "code",
   "execution_count": null,
   "id": "69072097",
   "metadata": {},
   "outputs": [
    {
     "data": {
      "text/plain": [
       "<Axes: xlabel='churn', ylabel='trips_in_first_30_days'>"
      ]
     },
     "execution_count": 40,
     "metadata": {},
     "output_type": "execute_result"
    },
    {
     "data": {
      "image/png": "[encoded data removed]",
      "text/plain": [
       "<Figure size 640x480 with 1 Axes>"
      ]
     },
     "metadata": {},
     "output_type": "display_data"
    }
   ],
   "source": [
    "sns.pointplot(x = 'churn', y = 'trips_in_first_30_days', data=df) #Строим график с сравнением среднего количества поездок для выборок"
   ]
  }
 ],
 "metadata": {
  "kernelspec": {
   "display_name": "Python 3",
   "language": "python",
   "name": "python3"
  },
  "language_info": {
   "codemirror_mode": {
    "name": "ipython",
    "version": 3
   },
   "file_extension": ".py",
   "mimetype": "text/x-python",
   "name": "python",
   "nbconvert_exporter": "python",
   "pygments_lexer": "ipython3",
   "version": "3.13.5"
  }
 },
 "nbformat": 4,
 "nbformat_minor": 5
}
